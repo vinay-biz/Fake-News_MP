{
 "cells": [
  {
   "cell_type": "code",
   "execution_count": 1,
   "id": "58391c11",
   "metadata": {},
   "outputs": [],
   "source": [
    "#Created By - Vinay Pandey\n",
    "#GitHub - https://github.com/vinay-biz"
   ]
  },
  {
   "cell_type": "code",
   "execution_count": 2,
   "id": "f40d10b2",
   "metadata": {},
   "outputs": [],
   "source": [
    "import numpy as np\n",
    "import pandas as pd"
   ]
  },
  {
   "cell_type": "code",
   "execution_count": 3,
   "id": "8855984f",
   "metadata": {},
   "outputs": [],
   "source": [
    "import os\n",
    "os.chdir(r\"C:\\Users\\vinay\\Desktop\\MiniProj\")"
   ]
  },
  {
   "cell_type": "code",
   "execution_count": 4,
   "id": "3a94b0da",
   "metadata": {},
   "outputs": [],
   "source": [
    "#Let's Load the Dataset"
   ]
  },
  {
   "cell_type": "code",
   "execution_count": 8,
   "id": "d111df93",
   "metadata": {},
   "outputs": [],
   "source": [
    "fake = pd.read_csv('Fake.csv')\n",
    "real = pd.read_csv('Real.csv')"
   ]
  },
  {
   "cell_type": "code",
   "execution_count": null,
   "id": "7f8ef399",
   "metadata": {},
   "outputs": [],
   "source": [
    "#Creating a category for whether fake or not\n",
    "#where 1 stand for fake news and 0 stands for ra news\n",
    "\n",
    "fake[\"category\"]=1\n",
    "real[\"category\"]=0"
   ]
  }
 ],
 "metadata": {
  "kernelspec": {
   "display_name": "Python 3 (ipykernel)",
   "language": "python",
   "name": "python3"
  },
  "language_info": {
   "codemirror_mode": {
    "name": "ipython",
    "version": 3
   },
   "file_extension": ".py",
   "mimetype": "text/x-python",
   "name": "python",
   "nbconvert_exporter": "python",
   "pygments_lexer": "ipython3",
   "version": "3.11.5"
  }
 },
 "nbformat": 4,
 "nbformat_minor": 5
}
